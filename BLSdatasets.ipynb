{
 "cells": [
  {
   "cell_type": "markdown",
   "metadata": {},
   "source": [
    "# Extracting Bureau of Labor Statistics datasets \n",
    "## CPI, unemployment, etc ."
   ]
  },
  {
   "cell_type": "markdown",
   "metadata": {},
   "source": [
    "http://www.bls.gov/help/hlpforma.htm - lists the Series IDs\n",
    "Sample Series IDs\n",
    "CUUR0100SAF - CPI (food and beverages), Northeast urban\n",
    "CUUR0200SAF - CPI (food and beverages), Midwest urban\n",
    "CUUR0300SAF - CPI (food and beverages), South urban\n",
    "CUUR0400SAF - CPI (food and beverages), West urban\n",
    "LAUMT063108000000003 - unemployment rate, Los Angeles\n",
    "LAUST060000000000003 - unemployment rate, California"
   ]
  },
  {
   "cell_type": "markdown",
   "metadata": {},
   "source": [
    "##Steps to retrieve Series ID and/or data using the bls.gov user interface \n",
    "\n",
    "### CPI\n",
    "1. On http://www.bls.gov/data/, click on CPI \"All Urban Consumers - Multi-screen Data Search\" (top of page) \n",
    "2. Check \"Not Seasonally Adjusted\", click \"next form\"\n",
    "3. Select desired area/location (e.g. Northeast urban), click \"next form\" \n",
    "4. check \"current\", \"next form\"\n",
    "5. Select desired \"item\" (e.g. SAF Food and beverages), 'next form'\n",
    "6. Check \"monthly\", 'next form'\n",
    "7. This page will give you the Seried ID(s). Save series ID(s) and use it to retrieve data using the API (code below). OR If you want to directly download the data, click 'retrieve data'. At this point, you can download the data in xlsx, or click on \"more formatting options\" and download as csv or tab-delimited txt\n",
    "\n",
    "### Unemployment rate\n",
    "1. On http://www.bls.gov/data/, click on \"Local Area Unemployment Statistics (LAUS) - Multi-screen Data Search\". \n",
    "2. Select state, click \"next form\"\n",
    "3. Select area type (e.g. B Metropolitan Areas), click 'next form'\n",
    "4. Select area (e.g. Los Angeles)\n",
    "5. Select measure (e.g. unemployment rate) \n",
    "6. Check 'not seasonally adjusted'\n",
    "7. This page will give you the Seried ID(s). Save series ID(s) and use it to retrieve data using the API (code below). OR If you want to directly download the data, click 'retrieve data'. At this point, you can download the data in xlsx, or click on \"more formatting options\" and download as csv or tab-delimited txt"
   ]
  },
  {
   "cell_type": "markdown",
   "metadata": {},
   "source": [
    "## Retrieve data using API\n",
    "### need to use Series IDs (listed above) to retrieve data"
   ]
  },
  {
   "cell_type": "raw",
   "metadata": {},
   "source": [
    "cd C:\\Users\\Amy\\Desktop\\"
   ]
  },
  {
   "cell_type": "code",
   "execution_count": 8,
   "metadata": {
    "collapsed": false
   },
   "outputs": [],
   "source": [
    "import requests\n",
    "import json\n",
    "import prettytable\n",
    "headnrs = {'Content-type': 'application/json'}\n",
    "data = json.dumps({\"seriesid\": ['CUURA207SAF'],\"startyear\":\"2013\", \"endyear\":\"2015\"})\n",
    "p = requests.post('http://api.bls.gov/publicAPI/v2/timeseries/data/', data=data, headers=headers)\n",
    "json_data = json.loads(p.text)\n",
    "for series in json_data['Results']['series']:\n",
    "    x=prettytable.PrettyTable([\"series id\",\"year\",\"period\",\"value\",\"footnotes\"])\n",
    "    seriesId = series['seriesID']\n",
    "    for item in series['data']:\n",
    "        year = item['year']\n",
    "        period = item['period']\n",
    "        value = item['value']\n",
    "        footnotes=\"\"\n",
    "        for footnote in item['footnotes']:\n",
    "            if footnote:\n",
    "                footnotes = footnotes + footnote['text'] + ','\n",
    "       #if 'M01' <= period <= 'M12':'\n",
    "            x.add_row([seriesId,year,period,value,footnotes[0:-1]])\n",
    "    output = open(seriesId + '.txt','w')\n",
    "    output.write (x.get_string())\n",
    "    output.close()"
   ]
  },
  {
   "cell_type": "code",
   "execution_count": 9,
   "metadata": {
    "collapsed": false
   },
   "outputs": [
    {
     "name": "stdout",
     "output_type": "stream",
     "text": [
      "2015 M10 244.100\n",
      "2015 M09 243.146\n",
      "2015 M08 242.903\n",
      "2015 M07 241.342\n",
      "2015 M06 240.623\n",
      "2015 M05 240.318\n",
      "2015 M04 241.043\n",
      "2015 M03 239.642\n",
      "2015 M02 239.125\n",
      "2015 M01 240.287\n",
      "2014 M12 239.696\n",
      "2014 M11 240.189\n",
      "2014 M10 239.670\n",
      "2014 M09 238.733\n",
      "2014 M08 237.423\n",
      "2014 M07 236.348\n",
      "2014 M06 236.563\n",
      "2014 M05 236.774\n",
      "2014 M04 235.493\n",
      "2014 M03 234.916\n",
      "2014 M02 234.205\n",
      "2014 M01 231.741\n",
      "2013 M12 229.969\n",
      "2013 M11 229.905\n",
      "2013 M10 230.141\n",
      "2013 M09 228.933\n",
      "2013 M08 230.278\n",
      "2013 M07 229.734\n",
      "2013 M06 229.978\n",
      "2013 M05 228.642\n",
      "2013 M04 228.778\n",
      "2013 M03 230.757\n",
      "2013 M02 230.213\n",
      "2013 M01 231.930\n"
     ]
    }
   ],
   "source": [
    "import requests\n",
    "import json\n",
    "headers = {'Content-type': 'application/json'}\n",
    "data = json.dumps({\"seriesid\": ['CUURA207SAF'],\"startyear\":\"2013\", \"endyear\":\"2015\"})\n",
    "p = requests.post('http://api.bls.gov/publicAPI/v2/timeseries/data/', data=data, headers=headers)\n",
    "json_data = json.loads(p.text)\n",
    "for series in json_data['Results']['series']:\n",
    "    seriesId = series['seriesID']\n",
    "    for item in series['data']:\n",
    "        year = item['year']\n",
    "        period = item['period']\n",
    "        value = item['value']\n",
    "        print year, period, value "
   ]
  },
  {
   "cell_type": "code",
   "execution_count": 10,
   "metadata": {
    "collapsed": false
   },
   "outputs": [
    {
     "name": "stdout",
     "output_type": "stream",
     "text": [
      "2015 M10 5.0\n",
      "2015 M09 4.9\n",
      "2015 M08 5.7\n",
      "2015 M07 6.1\n",
      "2015 M06 6.3\n",
      "2015 M05 6.0\n",
      "2015 M04 5.9\n",
      "2015 M03 6.4\n",
      "2015 M02 6.6\n",
      "2015 M01 6.8\n",
      "2014 M12 5.6\n",
      "2014 M11 5.8\n",
      "2014 M10 6.1\n",
      "2014 M09 6.2\n",
      "2014 M08 6.9\n",
      "2014 M07 7.4\n",
      "2014 M06 7.3\n",
      "2014 M05 7.0\n",
      "2014 M04 7.1\n",
      "2014 M03 8.1\n",
      "2014 M02 8.8\n",
      "2014 M01 8.8\n",
      "2013 M12 8.2\n",
      "2013 M11 8.3\n",
      "2013 M10 8.9\n",
      "2013 M09 8.8\n",
      "2013 M08 9.3\n",
      "2013 M07 9.7\n",
      "2013 M06 10.1\n",
      "2013 M05 9.1\n",
      "2013 M04 9.1\n",
      "2013 M03 9.2\n",
      "2013 M02 9.9\n",
      "2013 M01 10.3\n"
     ]
    }
   ],
   "source": [
    "import requests\n",
    "import json\n",
    "headers = {'Content-type': 'application/json'}\n",
    "data = json.dumps({\"seriesid\": ['LAUDV171697400000003'],\"startyear\":\"2013\", \"endyear\":\"2015\"})\n",
    "p = requests.post('http://api.bls.gov/publicAPI/v2/timeseries/data/', data=data, headers=headers)\n",
    "json_data = json.loads(p.text)\n",
    "for series in json_data['Results']['series']:\n",
    "    seriesId = series['seriesID']\n",
    "    for item in series['data']:\n",
    "        year = item['year']\n",
    "        period = item['period']\n",
    "        value = item['value']\n",
    "        print year, period, value "
   ]
  },
  {
   "cell_type": "code",
   "execution_count": null,
   "metadata": {
    "collapsed": true
   },
   "outputs": [],
   "source": []
  }
 ],
 "metadata": {
  "kernelspec": {
   "display_name": "Python 2",
   "language": "python",
   "name": "python2"
  },
  "language_info": {
   "codemirror_mode": {
    "name": "ipython",
    "version": 2
   },
   "file_extension": ".py",
   "mimetype": "text/x-python",
   "name": "python",
   "nbconvert_exporter": "python",
   "pygments_lexer": "ipython2",
   "version": "2.7.10"
  }
 },
 "nbformat": 4,
 "nbformat_minor": 0
}
